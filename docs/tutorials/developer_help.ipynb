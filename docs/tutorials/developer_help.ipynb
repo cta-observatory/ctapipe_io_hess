{
 "cells": [
  {
   "cell_type": "markdown",
   "id": "62ba1e1f-5132-46a6-beaa-933c031a3506",
   "metadata": {},
   "source": [
    "# Developer Tutorial"
   ]
  },
  {
   "cell_type": "markdown",
   "id": "7864d740-81e9-4a1d-88ef-0eb51d26ba2f",
   "metadata": {},
   "source": [
    "> **TIP**: add the following to the top of your notebook or ipython script to have it automatically reload the imports as you make changes. That makes it much nicer to develop at the same time as working in the notebook:\n"
   ]
  },
  {
   "cell_type": "code",
   "execution_count": null,
   "id": "a016feb4-0cb9-464c-bc44-b05c9c8a3816",
   "metadata": {},
   "outputs": [],
   "source": [
    "%load_ext autoreload\n",
    "%autoreload 2"
   ]
  },
  {
   "cell_type": "markdown",
   "id": "4bb91c04-e7d0-471d-a40c-c11812630070",
   "metadata": {},
   "source": [
    "## Using the EventSource interactively. \n",
    "\n",
    "Note that you can find detailed tutorials about working with events and `EventSources` in general in the [ctapipe documentation](https://ctapipe.readthedocs.io/en/latest/).\n",
    "\n",
    "The purpose of the HESSEventSource is too make HESS data work with the `ctapipe-process` command-line tool.  Howwever, during development instead of running the tool, it's often nice to make a small test script to help explore the functionality of the `HESSEventSource` interactively, either in a python REPL like *ipython*, or in a *Jupyter Notebook*. \n",
    "\n",
    "A basic test is as follows:\n"
   ]
  },
  {
   "cell_type": "code",
   "execution_count": null,
   "id": "d1431ccf-ea4f-45f5-a7bb-59a1f0c9a06c",
   "metadata": {},
   "outputs": [],
   "source": [
    "from ctapipe.coordinates import EngineeringCameraFrame\n",
    "from ctapipe.io import EventSource\n",
    "from ctapipe.utils import get_dataset_path\n",
    "from ctapipe.visualization import CameraDisplay\n",
    "\n",
    "# load the test file. Note you can substitute your own local filename here instead\n",
    "# , e.g. filename=\"my_local_dst_file.root\"\n",
    "FILENAME = get_dataset_path(\"example_hess_dst.root\")\n",
    "\n",
    "# now just load the first event in the file:\n",
    "with EventSource(FILENAME, max_events=1) as source:\n",
    "    for event in source:\n",
    "        print(event.index)"
   ]
  },
  {
   "cell_type": "markdown",
   "id": "1e068621-2c28-45ab-9804-ca901c2c084f",
   "metadata": {},
   "source": [
    "Now ``event`` is the first loaded event, and ``source`` will be an instance of HESSIOEventSource, if everything worked correctly"
   ]
  },
  {
   "cell_type": "code",
   "execution_count": null,
   "id": "9b25f493-5add-42c5-8531-cf1c1b880844",
   "metadata": {},
   "outputs": [],
   "source": [
    "source"
   ]
  },
  {
   "cell_type": "markdown",
   "id": "b74fe690-5bb5-455e-abc7-94e6af62d7fb",
   "metadata": {},
   "source": [
    "## Look at attributes of the event source and see if they make sense:"
   ]
  },
  {
   "cell_type": "code",
   "execution_count": null,
   "id": "d22ae44e-2a1b-472f-9d0f-446b55ae8bfa",
   "metadata": {},
   "outputs": [],
   "source": [
    "source.obs_ids"
   ]
  },
  {
   "cell_type": "code",
   "execution_count": null,
   "id": "7c742e3b-4e7a-40d6-813f-31a46e420e7f",
   "metadata": {},
   "outputs": [],
   "source": [
    "for obs_id, ob in source.observation_blocks.items():\n",
    "    print(ob)\n",
    "ob"
   ]
  },
  {
   "cell_type": "code",
   "execution_count": null,
   "id": "6e38bf1c-22a6-4545-8a01-fe8069f6a491",
   "metadata": {},
   "outputs": [],
   "source": [
    "source.atmosphere_density_profile"
   ]
  },
  {
   "cell_type": "code",
   "execution_count": null,
   "id": "1c29f43d-4e27-44f9-87a0-85aeefb85e6b",
   "metadata": {},
   "outputs": [],
   "source": [
    "source.metadata"
   ]
  },
  {
   "cell_type": "code",
   "execution_count": null,
   "id": "7a2c7dec-1fbb-4f1b-942a-374d71702f08",
   "metadata": {},
   "outputs": [],
   "source": [
    "source.subarray"
   ]
  },
  {
   "cell_type": "code",
   "execution_count": null,
   "id": "ede52575-e884-4e42-a8fb-2a7334308bb9",
   "metadata": {},
   "outputs": [],
   "source": [
    "source.subarray.info()"
   ]
  },
  {
   "cell_type": "code",
   "execution_count": null,
   "id": "876e4459-12c8-4cc8-93d4-def9ac77fdd3",
   "metadata": {},
   "outputs": [],
   "source": [
    "source.subarray.peek()"
   ]
  },
  {
   "cell_type": "markdown",
   "id": "734b1d14-398f-48e0-b77a-7ca60b0c1262",
   "metadata": {},
   "source": [
    "## Look at the images\n",
    "\n",
    "first let's see what telescopes have data in this event:"
   ]
  },
  {
   "cell_type": "code",
   "execution_count": null,
   "id": "9baa0097-312e-433e-ae40-30c92ed76b1f",
   "metadata": {},
   "outputs": [],
   "source": [
    "event.dl1.tel.keys()"
   ]
  },
  {
   "cell_type": "markdown",
   "id": "12566438-b620-40ec-ab56-b76c4e913282",
   "metadata": {},
   "source": [
    "Ok, then we can look at `tel_id`=1 (which is \"CT1\")\n",
    "\n",
    "The *repr* of a Container class gives you its contents:"
   ]
  },
  {
   "cell_type": "code",
   "execution_count": null,
   "id": "17ac1809-f6a3-4254-a22d-b6d7710e5f10",
   "metadata": {},
   "outputs": [],
   "source": [
    "event.dl1.tel[1]"
   ]
  },
  {
   "cell_type": "markdown",
   "id": "71be54eb-7087-4e27-9ffa-ba9eada8c4dd",
   "metadata": {},
   "source": [
    "So, then you can look at elements:"
   ]
  },
  {
   "cell_type": "code",
   "execution_count": null,
   "id": "14d80a4d-7164-44b9-a8a1-81a059109c72",
   "metadata": {},
   "outputs": [],
   "source": [
    "event.dl1.tel[1].image.sum()"
   ]
  },
  {
   "cell_type": "markdown",
   "id": "81992400-0fea-43bb-925c-43893f3c6e45",
   "metadata": {},
   "source": [
    "## Display an image to see if things look ok:"
   ]
  },
  {
   "cell_type": "code",
   "execution_count": null,
   "id": "4c30b131-fbaf-4863-ace0-49e09ecd0eed",
   "metadata": {},
   "outputs": [],
   "source": [
    "tel_id = 1\n",
    "image = event.dl1.tel[tel_id].image\n",
    "\n",
    "# best to get the geometry and transform\n",
    "# it to the EngineeringCameraFrame, which is what you would see if\n",
    "# looking at the front of the camera\n",
    "geometry = source.subarray.tel[1].camera.geometry.transform_to(EngineeringCameraFrame())\n",
    "\n",
    "disp = CameraDisplay(source.subarray.tel[1].camera.geometry, image=image)"
   ]
  },
  {
   "cell_type": "code",
   "execution_count": null,
   "id": "ae006464-0a72-4fee-b2c7-71d1327c6a45",
   "metadata": {},
   "outputs": [],
   "source": []
  }
 ],
 "metadata": {
   "language_info": {
   "codemirror_mode": {
    "name": "ipython",
    "version": 3
   },
   "file_extension": ".py",
   "mimetype": "text/x-python",
   "name": "python",
   "nbconvert_exporter": "python",
   "pygments_lexer": "ipython3",
   "version": "3.13.5"
  }
 },
 "nbformat": 4,
 "nbformat_minor": 5
}
